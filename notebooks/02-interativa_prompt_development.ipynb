{
 "cells": [
  {
   "cell_type": "code",
   "execution_count": 2,
   "id": "d53eb178-bade-41ee-ae6c-e9059b42cfdf",
   "metadata": {
    "execution": {
     "iopub.execute_input": "2023-05-23T16:22:10.336023Z",
     "iopub.status.busy": "2023-05-23T16:22:10.335783Z",
     "iopub.status.idle": "2023-05-23T16:22:10.339401Z",
     "shell.execute_reply": "2023-05-23T16:22:10.338901Z",
     "shell.execute_reply.started": "2023-05-23T16:22:10.336001Z"
    },
    "tags": []
   },
   "outputs": [],
   "source": [
    "import sys, openai\n",
    "sys.path.insert(1, '../')\n",
    "from auth import auth\n",
    "\n",
    "openai.api_key = auth.SECRET_KEY"
   ]
  },
  {
   "cell_type": "code",
   "execution_count": null,
   "id": "7b4edcf4-de5a-4e5c-81fd-2d40245f2ec7",
   "metadata": {},
   "outputs": [],
   "source": []
  }
 ],
 "metadata": {
  "kernelspec": {
   "display_name": "Python 3 (ipykernel)",
   "language": "python",
   "name": "python3"
  },
  "language_info": {
   "codemirror_mode": {
    "name": "ipython",
    "version": 3
   },
   "file_extension": ".py",
   "mimetype": "text/x-python",
   "name": "python",
   "nbconvert_exporter": "python",
   "pygments_lexer": "ipython3",
   "version": "3.11.3"
  }
 },
 "nbformat": 4,
 "nbformat_minor": 5
}

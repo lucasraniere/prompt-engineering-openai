{
 "cells": [
  {
   "cell_type": "code",
   "execution_count": 1,
   "id": "c1d53493-344e-4298-9310-e4f488519a78",
   "metadata": {
    "execution": {
     "iopub.execute_input": "2023-05-23T16:22:30.374175Z",
     "iopub.status.busy": "2023-05-23T16:22:30.374007Z",
     "iopub.status.idle": "2023-05-23T16:22:30.589457Z",
     "shell.execute_reply": "2023-05-23T16:22:30.589102Z",
     "shell.execute_reply.started": "2023-05-23T16:22:30.374163Z"
    },
    "tags": []
   },
   "outputs": [],
   "source": [
    "import sys, openai\n",
    "sys.path.insert(1, '../')\n",
    "from auth import auth\n",
    "\n",
    "openai.api_key = auth.SECRET_KEY"
   ]
  },
  {
   "cell_type": "markdown",
   "id": "7e0e62e2-3204-4423-a3bf-d800e14ac20d",
   "metadata": {},
   "source": [
    "### **Principles**\n",
    "\n",
    "1. Write CLEAR and SPECIFIC instructions\n",
    "    * It's different than short prompts\n",
    "2. Give the model time to \"think\""
   ]
  },
  {
   "cell_type": "code",
   "execution_count": 7,
   "id": "96d0f610-3121-4ebf-8cb2-1121bc3b0a0f",
   "metadata": {
    "execution": {
     "iopub.execute_input": "2023-05-23T15:00:49.251048Z",
     "iopub.status.busy": "2023-05-23T15:00:49.250775Z",
     "iopub.status.idle": "2023-05-23T15:00:49.253366Z",
     "shell.execute_reply": "2023-05-23T15:00:49.252944Z",
     "shell.execute_reply.started": "2023-05-23T15:00:49.251034Z"
    }
   },
   "outputs": [],
   "source": [
    "def get_completion(prompt, model=\"gpt-3.5-turbo\"):\n",
    "    messages = [{\"role\": \"user\", \"content\": prompt}]\n",
    "    response = openai.ChatCompletion.create(\n",
    "        model=model,\n",
    "        messages=messages,\n",
    "        temperature=0, # this is the degree of randomness of the model's output\n",
    "    )\n",
    "    return response.choices[0].message[\"content\"]"
   ]
  },
  {
   "cell_type": "markdown",
   "id": "c3fc5916-42af-4029-8097-1447ae79295e",
   "metadata": {},
   "source": [
    "### **Tatics for Principle 1**\n",
    "\n",
    "1. Use delimiters to clearly indicate distinct parts of the input\n",
    "    * Delimeter can be: ```, \"\"\", <>, :, etc\n",
    "2. Ask for a structured output\n",
    "    * JSON, HTML\n",
    "3. Ask the model to check whether conditions are satisfied\n",
    "4. \"Few-shot\" prompting"
   ]
  },
  {
   "cell_type": "code",
   "execution_count": 10,
   "id": "985e0c2d-23a3-49e6-9371-c113f8837b25",
   "metadata": {
    "execution": {
     "iopub.execute_input": "2023-05-23T15:05:49.925911Z",
     "iopub.status.busy": "2023-05-23T15:05:49.925745Z",
     "iopub.status.idle": "2023-05-23T15:05:57.378875Z",
     "shell.execute_reply": "2023-05-23T15:05:57.378599Z",
     "shell.execute_reply.started": "2023-05-23T15:05:49.925900Z"
    },
    "tags": []
   },
   "outputs": [
    {
     "name": "stdout",
     "output_type": "stream",
     "text": [
      "Clear and specific instructions should be provided to guide a model towards the desired output, and longer prompts can provide more clarity and context for the model, leading to more detailed and relevant outputs.\n"
     ]
    }
   ],
   "source": [
    "# Tatic 1\n",
    "\n",
    "text = f\"\"\"\n",
    "You should express what you want a model to do by \\ \n",
    "providing instructions that are as clear and \\ \n",
    "specific as you can possibly make them. \\ \n",
    "This will guide the model towards the desired output, \\ \n",
    "and reduce the chances of receiving irrelevant \\ \n",
    "or incorrect responses. Don't confuse writing a \\ \n",
    "clear prompt with writing a short prompt. \\ \n",
    "In many cases, longer prompts provide more clarity \\ \n",
    "and context for the model, which can lead to \\ \n",
    "more detailed and relevant outputs.\n",
    "\"\"\"\n",
    "prompt = f\"\"\"\n",
    "Summarize the text delimited by triple backticks \\ \n",
    "into a single sentence.\n",
    "```{text}```\n",
    "\"\"\"\n",
    "response = get_completion(prompt)\n",
    "print(response)"
   ]
  },
  {
   "cell_type": "code",
   "execution_count": 11,
   "id": "d00a181b-215f-4c54-a73f-274bc8e1c02c",
   "metadata": {
    "execution": {
     "iopub.execute_input": "2023-05-23T15:05:57.379492Z",
     "iopub.status.busy": "2023-05-23T15:05:57.379394Z",
     "iopub.status.idle": "2023-05-23T15:06:17.791940Z",
     "shell.execute_reply": "2023-05-23T15:06:17.791557Z",
     "shell.execute_reply.started": "2023-05-23T15:05:57.379482Z"
    },
    "tags": []
   },
   "outputs": [
    {
     "name": "stdout",
     "output_type": "stream",
     "text": [
      "[\n",
      "  {\n",
      "    \"book_id\": 1,\n",
      "    \"title\": \"The Lost City of Zorath\",\n",
      "    \"author\": \"Aria Blackwood\",\n",
      "    \"genre\": \"Fantasy\"\n",
      "  },\n",
      "  {\n",
      "    \"book_id\": 2,\n",
      "    \"title\": \"The Last Survivors\",\n",
      "    \"author\": \"Ethan Stone\",\n",
      "    \"genre\": \"Science Fiction\"\n",
      "  },\n",
      "  {\n",
      "    \"book_id\": 3,\n",
      "    \"title\": \"The Secret of the Haunted Mansion\",\n",
      "    \"author\": \"Lila Rose\",\n",
      "    \"genre\": \"Mystery\"\n",
      "  }\n",
      "]\n"
     ]
    }
   ],
   "source": [
    "# Tatic 2\n",
    "\n",
    "prompt = f\"\"\"\n",
    "Generate a list of three made-up book titles along \\\n",
    "with their authors and genres. \n",
    "Provide them in JSON format with the following keys:\n",
    "book_id, title, author, genre.\n",
    "\"\"\"\n",
    "response = get_completion(prompt)\n",
    "print(response)"
   ]
  },
  {
   "cell_type": "code",
   "execution_count": 13,
   "id": "866bc149-9257-4d04-a5d9-9018acfda14e",
   "metadata": {
    "execution": {
     "iopub.execute_input": "2023-05-23T15:08:56.371877Z",
     "iopub.status.busy": "2023-05-23T15:08:56.371624Z",
     "iopub.status.idle": "2023-05-23T15:09:07.983658Z",
     "shell.execute_reply": "2023-05-23T15:09:07.983120Z",
     "shell.execute_reply.started": "2023-05-23T15:08:56.371855Z"
    }
   },
   "outputs": [
    {
     "name": "stdout",
     "output_type": "stream",
     "text": [
      "Completion for Text 1:\n",
      "Step 1 - Get some water boiling.\n",
      "Step 2 - Grab a cup and put a tea bag in it.\n",
      "Step 3 - Once the water is hot enough, pour it over the tea bag.\n",
      "Step 4 - Let it sit for a bit so the tea can steep.\n",
      "Step 5 - After a few minutes, take out the tea bag.\n",
      "Step 6 - Add some sugar or milk to taste.\n",
      "Step 7 - Enjoy your delicious cup of tea!\n"
     ]
    }
   ],
   "source": [
    "# Tatic 3\n",
    "\n",
    "text_1 = f\"\"\"\n",
    "Making a cup of tea is easy! First, you need to get some \\ \n",
    "water boiling. While that's happening, \\ \n",
    "grab a cup and put a tea bag in it. Once the water is \\ \n",
    "hot enough, just pour it over the tea bag. \\ \n",
    "Let it sit for a bit so the tea can steep. After a \\ \n",
    "few minutes, take out the tea bag. If you \\ \n",
    "like, you can add some sugar or milk to taste. \\ \n",
    "And that's it! You've got yourself a delicious \\ \n",
    "cup of tea to enjoy.\n",
    "\"\"\"\n",
    "prompt = f\"\"\"\n",
    "You will be provided with text delimited by triple quotes. \n",
    "If it contains a sequence of instructions, \\ \n",
    "re-write those instructions in the following format:\n",
    "\n",
    "Step 1 - ...\n",
    "Step 2 - …\n",
    "…\n",
    "Step N - …\n",
    "\n",
    "If the text does not contain a sequence of instructions, \\ \n",
    "then simply write \\\"No steps provided.\\\"\n",
    "\n",
    "\\\"\\\"\\\"{text_1}\\\"\\\"\\\"\n",
    "\"\"\"\n",
    "response = get_completion(prompt)\n",
    "print(\"Completion for Text 1:\")\n",
    "print(response)"
   ]
  },
  {
   "cell_type": "code",
   "execution_count": 12,
   "id": "8d4aba2b-48e5-43af-90b9-07feb1bd0097",
   "metadata": {
    "execution": {
     "iopub.execute_input": "2023-05-23T15:07:14.403542Z",
     "iopub.status.busy": "2023-05-23T15:07:14.403381Z",
     "iopub.status.idle": "2023-05-23T15:07:15.804111Z",
     "shell.execute_reply": "2023-05-23T15:07:15.803646Z",
     "shell.execute_reply.started": "2023-05-23T15:07:14.403529Z"
    }
   },
   "outputs": [
    {
     "name": "stdout",
     "output_type": "stream",
     "text": [
      "Completion for Text 2:\n",
      "No steps provided.\n"
     ]
    }
   ],
   "source": [
    "# Tatic 3\n",
    "\n",
    "text_2 = f\"\"\"\n",
    "The sun is shining brightly today, and the birds are \\\n",
    "singing. It's a beautiful day to go for a \\ \n",
    "walk in the park. The flowers are blooming, and the \\ \n",
    "trees are swaying gently in the breeze. People \\ \n",
    "are out and about, enjoying the lovely weather. \\ \n",
    "Some are having picnics, while others are playing \\ \n",
    "games or simply relaxing on the grass. It's a \\ \n",
    "perfect day to spend time outdoors and appreciate the \\ \n",
    "beauty of nature.\n",
    "\"\"\"\n",
    "prompt = f\"\"\"\n",
    "You will be provided with text delimited by triple quotes. \n",
    "If it contains a sequence of instructions, \\ \n",
    "re-write those instructions in the following format:\n",
    "\n",
    "Step 1 - ...\n",
    "Step 2 - …\n",
    "…\n",
    "Step N - …\n",
    "\n",
    "If the text does not contain a sequence of instructions, \\ \n",
    "then simply write \\\"No steps provided.\\\"\n",
    "\n",
    "\\\"\\\"\\\"{text_2}\\\"\\\"\\\"\n",
    "\"\"\"\n",
    "response = get_completion(prompt)\n",
    "print(\"Completion for Text 2:\")\n",
    "print(response)"
   ]
  },
  {
   "cell_type": "code",
   "execution_count": 15,
   "id": "b723e527-8863-40a6-a605-0ecf8128a817",
   "metadata": {
    "execution": {
     "iopub.execute_input": "2023-05-23T15:10:18.105443Z",
     "iopub.status.busy": "2023-05-23T15:10:18.105200Z",
     "iopub.status.idle": "2023-05-23T15:10:27.754352Z",
     "shell.execute_reply": "2023-05-23T15:10:27.754022Z",
     "shell.execute_reply.started": "2023-05-23T15:10:18.105423Z"
    },
    "tags": []
   },
   "outputs": [
    {
     "name": "stdout",
     "output_type": "stream",
     "text": [
      "<grandparent>: Resilience is like a tree that bends with the wind but never breaks. It is the ability to bounce back from adversity and keep moving forward, even when things get tough. Just like a tree that grows stronger with each storm it weathers, resilience is a quality that can be developed and strengthened over time.\n"
     ]
    }
   ],
   "source": [
    "# Tatic 4\n",
    "\n",
    "prompt = f\"\"\"\n",
    "Your task is to answer in a consistent style.\n",
    "\n",
    "<child>: Teach me about patience.\n",
    "\n",
    "<grandparent>: The river that carves the deepest \\ \n",
    "valley flows from a modest spring; the \\ \n",
    "grandest symphony originates from a single note; \\ \n",
    "the most intricate tapestry begins with a solitary thread.\n",
    "\n",
    "<child>: Teach me about resilience.\n",
    "\"\"\"\n",
    "response = get_completion(prompt)\n",
    "print(response)"
   ]
  },
  {
   "cell_type": "markdown",
   "id": "c3483d45-3887-40d6-b453-0362140b3d32",
   "metadata": {},
   "source": [
    "### **Tatics for Principle 2**\n",
    "\n",
    "1. Specify the steps to complete a task\n",
    "2. Instruct the model to work out its own solution before rushing to a conclusion"
   ]
  },
  {
   "cell_type": "code",
   "execution_count": 16,
   "id": "26f2595f-58cf-479a-812e-110cce611cdf",
   "metadata": {
    "execution": {
     "iopub.execute_input": "2023-05-23T15:21:17.075358Z",
     "iopub.status.busy": "2023-05-23T15:21:17.075212Z",
     "iopub.status.idle": "2023-05-23T15:21:46.567653Z",
     "shell.execute_reply": "2023-05-23T15:21:46.567172Z",
     "shell.execute_reply.started": "2023-05-23T15:21:17.075347Z"
    }
   },
   "outputs": [
    {
     "name": "stdout",
     "output_type": "stream",
     "text": [
      "Completion for prompt 1:\n",
      "Two siblings, Jack and Jill, go on a quest to fetch water from a well on a hilltop, but misfortune strikes and they both tumble down the hill, returning home slightly battered but with their adventurous spirits undimmed.\n",
      "\n",
      "Deux frères et sœurs, Jack et Jill, partent en quête d'eau d'un puits sur une colline, mais un malheur frappe et ils tombent tous les deux de la colline, rentrant chez eux légèrement meurtris mais avec leurs esprits aventureux intacts. \n",
      "Noms: Jack, Jill. \n",
      "\n",
      "{\n",
      "  \"french_summary\": \"Deux frères et sœurs, Jack et Jill, partent en quête d'eau d'un puits sur une colline, mais un malheur frappe et ils tombent tous les deux de la colline, rentrant chez eux légèrement meurtris mais avec leurs esprits aventureux intacts.\",\n",
      "  \"num_names\": 2\n",
      "}\n"
     ]
    }
   ],
   "source": [
    "# Tatic 1\n",
    "\n",
    "text = f\"\"\"\n",
    "In a charming village, siblings Jack and Jill set out on \\ \n",
    "a quest to fetch water from a hilltop \\ \n",
    "well. As they climbed, singing joyfully, misfortune \\ \n",
    "struck—Jack tripped on a stone and tumbled \\ \n",
    "down the hill, with Jill following suit. \\ \n",
    "Though slightly battered, the pair returned home to \\ \n",
    "comforting embraces. Despite the mishap, \\ \n",
    "their adventurous spirits remained undimmed, and they \\ \n",
    "continued exploring with delight.\n",
    "\"\"\"\n",
    "# example 1\n",
    "prompt_1 = f\"\"\"\n",
    "Perform the following actions: \n",
    "1 - Summarize the following text delimited by triple \\\n",
    "backticks with 1 sentence.\n",
    "2 - Translate the summary into French.\n",
    "3 - List each name in the French summary.\n",
    "4 - Output a json object that contains the following \\\n",
    "keys: french_summary, num_names.\n",
    "\n",
    "Separate your answers with line breaks.\n",
    "\n",
    "Text:\n",
    "```{text}```\n",
    "\"\"\"\n",
    "response = get_completion(prompt_1)\n",
    "print(\"Completion for prompt 1:\")\n",
    "print(response)"
   ]
  },
  {
   "cell_type": "code",
   "execution_count": 17,
   "id": "21d53d4e-d8cf-4123-9e9c-5ce7f569fdec",
   "metadata": {
    "execution": {
     "iopub.execute_input": "2023-05-23T15:24:42.796442Z",
     "iopub.status.busy": "2023-05-23T15:24:42.796251Z",
     "iopub.status.idle": "2023-05-23T15:24:44.652730Z",
     "shell.execute_reply": "2023-05-23T15:24:44.652270Z",
     "shell.execute_reply.started": "2023-05-23T15:24:42.796431Z"
    }
   },
   "outputs": [
    {
     "name": "stdout",
     "output_type": "stream",
     "text": [
      "The student's solution is correct.\n"
     ]
    }
   ],
   "source": [
    "# Tatic 2\n",
    "\n",
    "prompt = f\"\"\"\n",
    "Determine if the student's solution is correct or not.\n",
    "\n",
    "Question:\n",
    "I'm building a solar power installation and I need \\\n",
    " help working out the financials. \n",
    "- Land costs $100 / square foot\n",
    "- I can buy solar panels for $250 / square foot\n",
    "- I negotiated a contract for maintenance that will cost \\ \n",
    "me a flat $100k per year, and an additional $10 / square \\\n",
    "foot\n",
    "What is the total cost for the first year of operations \n",
    "as a function of the number of square feet.\n",
    "\n",
    "Student's Solution:\n",
    "Let x be the size of the installation in square feet.\n",
    "Costs:\n",
    "1. Land cost: 100x\n",
    "2. Solar panel cost: 250x\n",
    "3. Maintenance cost: 100,000 + 100x\n",
    "Total cost: 100x + 250x + 100,000 + 100x = 450x + 100,000\n",
    "\"\"\"\n",
    "response = get_completion(prompt)\n",
    "print(response)"
   ]
  },
  {
   "cell_type": "markdown",
   "id": "3a403d72-a3ec-4832-8870-45527032adad",
   "metadata": {},
   "source": [
    "**but the student's solution is actually not correct**"
   ]
  },
  {
   "cell_type": "code",
   "execution_count": 18,
   "id": "43131201-34d9-4e8b-b39d-49a3b9c4d742",
   "metadata": {
    "execution": {
     "iopub.execute_input": "2023-05-23T15:25:49.372639Z",
     "iopub.status.busy": "2023-05-23T15:25:49.372127Z",
     "iopub.status.idle": "2023-05-23T15:26:03.436588Z",
     "shell.execute_reply": "2023-05-23T15:26:03.436210Z",
     "shell.execute_reply.started": "2023-05-23T15:25:49.372614Z"
    }
   },
   "outputs": [
    {
     "name": "stdout",
     "output_type": "stream",
     "text": [
      "Let x be the size of the installation in square feet.\n",
      "\n",
      "Costs:\n",
      "1. Land cost: 100x\n",
      "2. Solar panel cost: 250x\n",
      "3. Maintenance cost: 100,000 + 10x\n",
      "\n",
      "Total cost: 100x + 250x + 100,000 + 10x = 360x + 100,000\n",
      "\n",
      "Is the student's solution the same as actual solution just calculated:\n",
      "No\n",
      "\n",
      "Student grade:\n",
      "Incorrect\n"
     ]
    }
   ],
   "source": [
    "# Tatic 2\n",
    "\n",
    "prompt = f\"\"\"\n",
    "Your task is to determine if the student's solution \\\n",
    "is correct or not.\n",
    "To solve the problem do the following:\n",
    "- First, work out your own solution to the problem. \n",
    "- Then compare your solution to the student's solution \\ \n",
    "and evaluate if the student's solution is correct or not. \n",
    "Don't decide if the student's solution is correct until \n",
    "you have done the problem yourself.\n",
    "\n",
    "Use the following format:\n",
    "Question:\n",
    "```\n",
    "question here\n",
    "```\n",
    "Student's solution:\n",
    "```\n",
    "student's solution here\n",
    "```\n",
    "Actual solution:\n",
    "```\n",
    "steps to work out the solution and your solution here\n",
    "```\n",
    "Is the student's solution the same as actual solution \\\n",
    "just calculated:\n",
    "```\n",
    "yes or no\n",
    "```\n",
    "Student grade:\n",
    "```\n",
    "correct or incorrect\n",
    "```\n",
    "\n",
    "Question:\n",
    "```\n",
    "I'm building a solar power installation and I need help \\\n",
    "working out the financials. \n",
    "- Land costs $100 / square foot\n",
    "- I can buy solar panels for $250 / square foot\n",
    "- I negotiated a contract for maintenance that will cost \\\n",
    "me a flat $100k per year, and an additional $10 / square \\\n",
    "foot\n",
    "What is the total cost for the first year of operations \\\n",
    "as a function of the number of square feet.\n",
    "``` \n",
    "Student's solution:\n",
    "```\n",
    "Let x be the size of the installation in square feet.\n",
    "Costs:\n",
    "1. Land cost: 100x\n",
    "2. Solar panel cost: 250x\n",
    "3. Maintenance cost: 100,000 + 100x\n",
    "Total cost: 100x + 250x + 100,000 + 100x = 450x + 100,000\n",
    "```\n",
    "Actual solution:\n",
    "\"\"\"\n",
    "response = get_completion(prompt)\n",
    "print(response)"
   ]
  },
  {
   "cell_type": "markdown",
   "id": "4cb4eb94-a1ae-4f0d-81f2-51eb9ff75579",
   "metadata": {},
   "source": [
    "### **Model Limitations: Hallucinations**\n",
    "\n",
    "Hallucinations = fabricated ideas"
   ]
  },
  {
   "cell_type": "code",
   "execution_count": 24,
   "id": "3802150a-601e-4070-94cb-260df3a32f5c",
   "metadata": {
    "execution": {
     "iopub.execute_input": "2023-05-23T15:34:27.950084Z",
     "iopub.status.busy": "2023-05-23T15:34:27.949928Z",
     "iopub.status.idle": "2023-05-23T15:35:01.696959Z",
     "shell.execute_reply": "2023-05-23T15:35:01.696648Z",
     "shell.execute_reply.started": "2023-05-23T15:34:27.950073Z"
    },
    "tags": []
   },
   "outputs": [
    {
     "name": "stdout",
     "output_type": "stream",
     "text": [
      "The AeroGlide UltraSlim Smart Toothbrush by Boie is a high-tech toothbrush that uses advanced sonic technology to provide a deep and thorough clean. It features a slim and sleek design that makes it easy to hold and maneuver, and it comes with a range of smart features that help you optimize your brushing routine.\n",
      "\n",
      "One of the key features of the AeroGlide UltraSlim Smart Toothbrush is its advanced sonic technology, which uses high-frequency vibrations to break up plaque and bacteria on your teeth and gums. This technology is highly effective at removing even the toughest stains and buildup, leaving your teeth feeling clean and refreshed.\n",
      "\n",
      "In addition to its sonic technology, the AeroGlide UltraSlim Smart Toothbrush also comes with a range of smart features that help you optimize your brushing routine. These include a built-in timer that ensures you brush for the recommended two minutes, as well as a pressure sensor that alerts you if you're brushing too hard.\n",
      "\n",
      "Overall, the AeroGlide UltraSlim Smart Toothbrush by Boie is a highly advanced and effective toothbrush that is perfect for anyone looking to take their oral hygiene to the next level. With its advanced sonic technology and smart features, it provides a deep and thorough clean that leaves your teeth feeling fresh and healthy.\n"
     ]
    }
   ],
   "source": [
    "# Boie is as real company, but the product isn't\n",
    "\n",
    "prompt = f\"\"\"\n",
    "Tell me about AeroGlide UltraSlim Smart Toothbrush by Boie\n",
    "\"\"\"\n",
    "response = get_completion(prompt)\n",
    "print(response)"
   ]
  },
  {
   "cell_type": "markdown",
   "id": "c8723e17-38fe-42f8-91f2-a2b42e1a54ec",
   "metadata": {
    "execution": {
     "iopub.execute_input": "2023-05-23T15:36:48.674996Z",
     "iopub.status.busy": "2023-05-23T15:36:48.674736Z",
     "iopub.status.idle": "2023-05-23T15:36:48.677231Z",
     "shell.execute_reply": "2023-05-23T15:36:48.676855Z",
     "shell.execute_reply.started": "2023-05-23T15:36:48.674983Z"
    }
   },
   "source": [
    "#### Reducing hallucinations\n",
    "\n",
    "Ask the model to:\n",
    "\n",
    "    1. Find relevant information\n",
    "    2. Answer the question based on the relevante information"
   ]
  }
 ],
 "metadata": {
  "kernelspec": {
   "display_name": "Python 3 (ipykernel)",
   "language": "python",
   "name": "python3"
  },
  "language_info": {
   "codemirror_mode": {
    "name": "ipython",
    "version": 3
   },
   "file_extension": ".py",
   "mimetype": "text/x-python",
   "name": "python",
   "nbconvert_exporter": "python",
   "pygments_lexer": "ipython3",
   "version": "3.11.3"
  }
 },
 "nbformat": 4,
 "nbformat_minor": 5
}

{
 "cells": [
  {
   "cell_type": "code",
   "execution_count": 1,
   "id": "408f2bb1-1d7e-4700-881c-f653a024be85",
   "metadata": {
    "execution": {
     "iopub.execute_input": "2023-05-24T18:50:35.970480Z",
     "iopub.status.busy": "2023-05-24T18:50:35.970180Z",
     "iopub.status.idle": "2023-05-24T18:50:36.196002Z",
     "shell.execute_reply": "2023-05-24T18:50:36.195542Z",
     "shell.execute_reply.started": "2023-05-24T18:50:35.970465Z"
    }
   },
   "outputs": [],
   "source": [
    "import sys, openai\n",
    "sys.path.insert(1, '../')\n",
    "from auth import auth\n",
    "\n",
    "openai.api_key = auth.SECRET_KEY"
   ]
  },
  {
   "cell_type": "code",
   "execution_count": 7,
   "id": "af8313ad-1b0c-45c0-83b2-ed0cde6a71c8",
   "metadata": {
    "execution": {
     "iopub.execute_input": "2023-05-24T18:54:07.494877Z",
     "iopub.status.busy": "2023-05-24T18:54:07.494720Z",
     "iopub.status.idle": "2023-05-24T18:54:07.497472Z",
     "shell.execute_reply": "2023-05-24T18:54:07.497083Z",
     "shell.execute_reply.started": "2023-05-24T18:54:07.494865Z"
    },
    "tags": []
   },
   "outputs": [],
   "source": [
    "def get_completion(prompt, model=\"gpt-3.5-turbo\",temperature=0): # Andrew mentioned that the prompt/ completion paradigm is preferable for this class\n",
    "    messages = [{\"role\": \"user\", \"content\": prompt}]\n",
    "    response = openai.ChatCompletion.create(\n",
    "        model=model,\n",
    "        messages=messages,\n",
    "        temperature=temperature, # this is the degree of randomness of the model's output\n",
    "    )\n",
    "    return response.choices[0].message[\"content\"]"
   ]
  },
  {
   "cell_type": "markdown",
   "id": "eba7a083-a746-4fa8-bb69-b6310677dd1d",
   "metadata": {},
   "source": [
    "### **Expanding**\n",
    "\n",
    "Generate customer service emailss that are tailored to each customer's review."
   ]
  },
  {
   "cell_type": "markdown",
   "id": "3ab0502b-c34d-4e41-851d-3dff86eef811",
   "metadata": {},
   "source": [
    "#### Customize the automated reply to a customer email"
   ]
  },
  {
   "cell_type": "code",
   "execution_count": 3,
   "id": "82762661-b1e7-476a-bb7d-9b3ca93f67ad",
   "metadata": {
    "execution": {
     "iopub.execute_input": "2023-05-24T18:52:42.418288Z",
     "iopub.status.busy": "2023-05-24T18:52:42.418135Z",
     "iopub.status.idle": "2023-05-24T18:52:42.421019Z",
     "shell.execute_reply": "2023-05-24T18:52:42.420551Z",
     "shell.execute_reply.started": "2023-05-24T18:52:42.418277Z"
    }
   },
   "outputs": [],
   "source": [
    "# given the sentiment from the lesson on \"inferring\",\n",
    "# and the original customer message, customize the email\n",
    "sentiment = \"negative\"\n",
    "\n",
    "# review for a blender\n",
    "review = f\"\"\"\n",
    "So, they still had the 17 piece system on seasonal \\\n",
    "sale for around $49 in the month of November, about \\\n",
    "half off, but for some reason (call it price gouging) \\\n",
    "around the second week of December the prices all went \\\n",
    "up to about anywhere from between $70-$89 for the same \\\n",
    "system. And the 11 piece system went up around $10 or \\\n",
    "so in price also from the earlier sale price of $29. \\\n",
    "So it looks okay, but if you look at the base, the part \\\n",
    "where the blade locks into place doesn’t look as good \\\n",
    "as in previous editions from a few years ago, but I \\\n",
    "plan to be very gentle with it (example, I crush \\\n",
    "very hard items like beans, ice, rice, etc. in the \\ \n",
    "blender first then pulverize them in the serving size \\\n",
    "I want in the blender then switch to the whipping \\\n",
    "blade for a finer flour, and use the cross cutting blade \\\n",
    "first when making smoothies, then use the flat blade \\\n",
    "if I need them finer/less pulpy). Special tip when making \\\n",
    "smoothies, finely cut and freeze the fruits and \\\n",
    "vegetables (if using spinach-lightly stew soften the \\ \n",
    "spinach then freeze until ready for use-and if making \\\n",
    "sorbet, use a small to medium sized food processor) \\ \n",
    "that you plan to use that way you can avoid adding so \\\n",
    "much ice if at all-when making your smoothie. \\\n",
    "After about a year, the motor was making a funny noise. \\\n",
    "I called customer service but the warranty expired \\\n",
    "already, so I had to buy another one. FYI: The overall \\\n",
    "quality has gone done in these types of products, so \\\n",
    "they are kind of counting on brand recognition and \\\n",
    "consumer loyalty to maintain sales. Got it in about \\\n",
    "two days.\n",
    "\"\"\""
   ]
  },
  {
   "cell_type": "code",
   "execution_count": 4,
   "id": "9fb5b8a3-1b70-4100-a720-19c9fbc0dd9f",
   "metadata": {
    "execution": {
     "iopub.execute_input": "2023-05-24T18:52:48.491874Z",
     "iopub.status.busy": "2023-05-24T18:52:48.491429Z",
     "iopub.status.idle": "2023-05-24T18:53:05.503271Z",
     "shell.execute_reply": "2023-05-24T18:53:05.502841Z",
     "shell.execute_reply.started": "2023-05-24T18:52:48.491855Z"
    }
   },
   "outputs": [
    {
     "name": "stdout",
     "output_type": "stream",
     "text": [
      "Dear valued customer,\n",
      "\n",
      "Thank you for taking the time to leave a review about our product. We are sorry to hear that you experienced a price increase and that the quality of the product did not meet your expectations. We apologize for any inconvenience this may have caused you.\n",
      "\n",
      "If you have any further concerns or questions, please do not hesitate to reach out to our customer service team. They will be more than happy to assist you in any way they can.\n",
      "\n",
      "Thank you again for your feedback. We appreciate your business and hope to have the opportunity to serve you better in the future.\n",
      "\n",
      "Best regards,\n",
      "\n",
      "AI customer agent\n"
     ]
    }
   ],
   "source": [
    "prompt = f\"\"\"\n",
    "You are a customer service AI assistant.\n",
    "Your task is to send an email reply to a valued customer.\n",
    "Given the customer email delimited by ```, \\\n",
    "Generate a reply to thank the customer for their review.\n",
    "If the sentiment is positive or neutral, thank them for \\\n",
    "their review.\n",
    "If the sentiment is negative, apologize and suggest that \\\n",
    "they can reach out to customer service. \n",
    "Make sure to use specific details from the review.\n",
    "Write in a concise and professional tone.\n",
    "Sign the email as `AI customer agent`.\n",
    "Customer review: ```{review}```\n",
    "Review sentiment: {sentiment}\n",
    "\"\"\"\n",
    "response = get_completion(prompt)\n",
    "print(response)"
   ]
  },
  {
   "cell_type": "markdown",
   "id": "a14e31e0-27fa-4750-8851-3984585042f6",
   "metadata": {
    "execution": {
     "iopub.execute_input": "2023-05-24T18:53:24.058419Z",
     "iopub.status.busy": "2023-05-24T18:53:24.058272Z",
     "iopub.status.idle": "2023-05-24T18:53:24.060548Z",
     "shell.execute_reply": "2023-05-24T18:53:24.060179Z",
     "shell.execute_reply.started": "2023-05-24T18:53:24.058408Z"
    }
   },
   "source": [
    "#### **Remind the model to use details from customer's email**"
   ]
  },
  {
   "cell_type": "code",
   "execution_count": 8,
   "id": "880f80c9-cfe1-419c-bcd1-6ce354c409af",
   "metadata": {
    "execution": {
     "iopub.execute_input": "2023-05-24T18:54:11.823031Z",
     "iopub.status.busy": "2023-05-24T18:54:11.822834Z",
     "iopub.status.idle": "2023-05-24T18:54:29.757134Z",
     "shell.execute_reply": "2023-05-24T18:54:29.756709Z",
     "shell.execute_reply.started": "2023-05-24T18:54:11.823016Z"
    },
    "tags": []
   },
   "outputs": [
    {
     "name": "stdout",
     "output_type": "stream",
     "text": [
      "Dear valued customer,\n",
      "\n",
      "Thank you for taking the time to share your thoughts on our product. We're sorry to hear that you experienced a price increase during the holiday season and that the base of the system didn't meet your expectations. We apologize for any inconvenience this may have caused.\n",
      "\n",
      "If you're having any issues with your new system, please don't hesitate to contact our customer service team for assistance. We would be happy to help you troubleshoot any problems or answer any questions you may have.\n",
      "\n",
      "Thank you again for your review, and we hope to have the opportunity to serve you better in the future.\n",
      "\n",
      "Best regards,\n",
      "\n",
      "AI customer agent\n"
     ]
    }
   ],
   "source": [
    "prompt = f\"\"\"\n",
    "You are a customer service AI assistant.\n",
    "Your task is to send an email reply to a valued customer.\n",
    "Given the customer email delimited by ```, \\\n",
    "Generate a reply to thank the customer for their review.\n",
    "If the sentiment is positive or neutral, thank them for \\\n",
    "their review.\n",
    "If the sentiment is negative, apologize and suggest that \\\n",
    "they can reach out to customer service. \n",
    "Make sure to use specific details from the review.\n",
    "Write in a concise and professional tone.\n",
    "Sign the email as `AI customer agent`.\n",
    "Customer review: ```{review}```\n",
    "Review sentiment: {sentiment}\n",
    "\"\"\"\n",
    "response = get_completion(prompt, temperature=0.7)\n",
    "print(response)"
   ]
  },
  {
   "cell_type": "code",
   "execution_count": null,
   "id": "f4752a46-b13c-4104-b8e6-4b8e3118df3d",
   "metadata": {},
   "outputs": [],
   "source": []
  }
 ],
 "metadata": {
  "kernelspec": {
   "display_name": "Python 3 (ipykernel)",
   "language": "python",
   "name": "python3"
  },
  "language_info": {
   "codemirror_mode": {
    "name": "ipython",
    "version": 3
   },
   "file_extension": ".py",
   "mimetype": "text/x-python",
   "name": "python",
   "nbconvert_exporter": "python",
   "pygments_lexer": "ipython3",
   "version": "3.11.3"
  }
 },
 "nbformat": 4,
 "nbformat_minor": 5
}

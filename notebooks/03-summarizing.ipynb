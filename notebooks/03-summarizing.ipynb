{
 "cells": [
  {
   "cell_type": "code",
   "execution_count": 1,
   "id": "ccdc5208-a659-4fab-85b1-4b93030bba65",
   "metadata": {
    "execution": {
     "iopub.execute_input": "2023-05-24T16:47:38.105513Z",
     "iopub.status.busy": "2023-05-24T16:47:38.105275Z",
     "iopub.status.idle": "2023-05-24T16:47:38.325356Z",
     "shell.execute_reply": "2023-05-24T16:47:38.324968Z",
     "shell.execute_reply.started": "2023-05-24T16:47:38.105493Z"
    }
   },
   "outputs": [],
   "source": [
    "import sys, openai\n",
    "sys.path.insert(1, '../')\n",
    "from auth import auth\n",
    "\n",
    "openai.api_key = auth.SECRET_KEY"
   ]
  },
  {
   "cell_type": "code",
   "execution_count": 2,
   "id": "16bee54b-caaa-4b5f-8200-6456f89e66b1",
   "metadata": {
    "execution": {
     "iopub.execute_input": "2023-05-24T16:50:00.770362Z",
     "iopub.status.busy": "2023-05-24T16:50:00.770138Z",
     "iopub.status.idle": "2023-05-24T16:50:00.773227Z",
     "shell.execute_reply": "2023-05-24T16:50:00.772661Z",
     "shell.execute_reply.started": "2023-05-24T16:50:00.770350Z"
    }
   },
   "outputs": [],
   "source": [
    "def get_completion(prompt, model=\"gpt-3.5-turbo\"):\n",
    "    messages = [{\"role\": \"user\", \"content\": prompt}]\n",
    "    response = openai.ChatCompletion.create(\n",
    "        model=model,\n",
    "        messages=messages,\n",
    "        temperature=0, # this is the degree of randomness of the model's output\n",
    "    )\n",
    "    return response.choices[0].message[\"content\"]"
   ]
  },
  {
   "cell_type": "code",
   "execution_count": 3,
   "id": "68b36f62-fd41-4f1f-a9b5-0679b879b128",
   "metadata": {
    "execution": {
     "iopub.execute_input": "2023-05-24T16:50:27.689690Z",
     "iopub.status.busy": "2023-05-24T16:50:27.689547Z",
     "iopub.status.idle": "2023-05-24T16:50:27.692147Z",
     "shell.execute_reply": "2023-05-24T16:50:27.691815Z",
     "shell.execute_reply.started": "2023-05-24T16:50:27.689679Z"
    }
   },
   "outputs": [],
   "source": [
    "# Text to summirize\n",
    "\n",
    "prod_review = \"\"\"\n",
    "Got this panda plush toy for my daughter's birthday, \\\n",
    "who loves it and takes it everywhere. It's soft and \\ \n",
    "super cute, and its face has a friendly look. It's \\ \n",
    "a bit small for what I paid though. I think there \\ \n",
    "might be other options that are bigger for the \\ \n",
    "same price. It arrived a day earlier than expected, \\ \n",
    "so I got to play with it myself before I gave it \\ \n",
    "to her.\n",
    "\"\"\""
   ]
  },
  {
   "cell_type": "markdown",
   "id": "6637465c-4ac2-45b4-b26a-47534a1a0c11",
   "metadata": {},
   "source": [
    "#### Summarize with a word/sentence/character limit"
   ]
  },
  {
   "cell_type": "code",
   "execution_count": 4,
   "id": "84a28f4b-714a-4077-bec1-5ed834cc5ca5",
   "metadata": {
    "execution": {
     "iopub.execute_input": "2023-05-24T16:51:25.210690Z",
     "iopub.status.busy": "2023-05-24T16:51:25.210549Z",
     "iopub.status.idle": "2023-05-24T16:51:29.276496Z",
     "shell.execute_reply": "2023-05-24T16:51:29.276136Z",
     "shell.execute_reply.started": "2023-05-24T16:51:25.210680Z"
    }
   },
   "outputs": [
    {
     "name": "stdout",
     "output_type": "stream",
     "text": [
      "Soft and cute panda plush toy loved by daughter, but a bit small for the price. Arrived early.\n"
     ]
    }
   ],
   "source": [
    "prompt = f\"\"\"\n",
    "Your task is to generate a short summary of a product \\\n",
    "review from an ecommerce site. \n",
    "\n",
    "Summarize the review below, delimited by triple \n",
    "backticks, in at most 30 words. \n",
    "\n",
    "Review: ```{prod_review}```\n",
    "\"\"\"\n",
    "\n",
    "response = get_completion(prompt)\n",
    "print(response)"
   ]
  },
  {
   "cell_type": "markdown",
   "id": "7e2b8044-134a-499d-b8c6-343748909526",
   "metadata": {},
   "source": [
    "#### Summarize with a focus on shipping and delivery"
   ]
  },
  {
   "cell_type": "code",
   "execution_count": 5,
   "id": "3a46ec2e-5cb9-4ed4-b15c-5b915034bacc",
   "metadata": {
    "execution": {
     "iopub.execute_input": "2023-05-24T16:54:44.340185Z",
     "iopub.status.busy": "2023-05-24T16:54:44.340030Z",
     "iopub.status.idle": "2023-05-24T16:54:48.790474Z",
     "shell.execute_reply": "2023-05-24T16:54:48.790046Z",
     "shell.execute_reply.started": "2023-05-24T16:54:44.340174Z"
    }
   },
   "outputs": [
    {
     "name": "stdout",
     "output_type": "stream",
     "text": [
      "The panda plush toy arrived a day earlier than expected, but the customer felt it was a bit small for the price paid.\n"
     ]
    }
   ],
   "source": [
    "prompt = f\"\"\"\n",
    "Your task is to generate a short summary of a product \\\n",
    "review from an ecommerce site to give feedback to the \\\n",
    "Shipping deparmtment. \n",
    "\n",
    "Summarize the review below, delimited by triple \n",
    "backticks, in at most 30 words, and focusing on any aspects \\\n",
    "that mention shipping and delivery of the product. \n",
    "\n",
    "Review: ```{prod_review}```\n",
    "\"\"\"\n",
    "\n",
    "response = get_completion(prompt)\n",
    "print(response)\n"
   ]
  },
  {
   "cell_type": "markdown",
   "id": "f905e792-d73e-4d74-8ff0-df798f3525d2",
   "metadata": {},
   "source": [
    "#### Summarize with a focus on price and value"
   ]
  },
  {
   "cell_type": "code",
   "execution_count": 6,
   "id": "ce5cdeae-7adb-4a2b-9409-0019e6e8b3af",
   "metadata": {
    "execution": {
     "iopub.execute_input": "2023-05-24T16:55:12.580056Z",
     "iopub.status.busy": "2023-05-24T16:55:12.579839Z",
     "iopub.status.idle": "2023-05-24T16:55:17.187486Z",
     "shell.execute_reply": "2023-05-24T16:55:17.186976Z",
     "shell.execute_reply.started": "2023-05-24T16:55:12.580043Z"
    }
   },
   "outputs": [
    {
     "name": "stdout",
     "output_type": "stream",
     "text": [
      "The panda plush toy is soft, cute, and loved by the recipient, but the price may be too high for its size.\n"
     ]
    }
   ],
   "source": [
    "prompt = f\"\"\"\n",
    "Your task is to generate a short summary of a product \\\n",
    "review from an ecommerce site to give feedback to the \\\n",
    "pricing deparmtment, responsible for determining the \\\n",
    "price of the product.  \n",
    "\n",
    "Summarize the review below, delimited by triple \n",
    "backticks, in at most 30 words, and focusing on any aspects \\\n",
    "that are relevant to the price and perceived value. \n",
    "\n",
    "Review: ```{prod_review}```\n",
    "\"\"\"\n",
    "\n",
    "response = get_completion(prompt)\n",
    "print(response)"
   ]
  },
  {
   "cell_type": "markdown",
   "id": "6491ea72-c9c0-4e77-a0a3-e63b19f5cef5",
   "metadata": {},
   "source": [
    "#### **Extracting instead of summarizing**"
   ]
  },
  {
   "cell_type": "code",
   "execution_count": 7,
   "id": "29d48db0-d7f3-4cb2-b86b-d80f4db45de4",
   "metadata": {
    "execution": {
     "iopub.execute_input": "2023-05-24T16:57:22.563624Z",
     "iopub.status.busy": "2023-05-24T16:57:22.563371Z",
     "iopub.status.idle": "2023-05-24T16:57:25.083569Z",
     "shell.execute_reply": "2023-05-24T16:57:25.083120Z",
     "shell.execute_reply.started": "2023-05-24T16:57:22.563603Z"
    }
   },
   "outputs": [
    {
     "name": "stdout",
     "output_type": "stream",
     "text": [
      "The product arrived a day earlier than expected.\n"
     ]
    }
   ],
   "source": [
    "prompt = f\"\"\"\n",
    "Your task is to extract relevant information from \\ \n",
    "a product review from an ecommerce site to give \\\n",
    "feedback to the Shipping department. \n",
    "\n",
    "From the review below, delimited by triple quotes \\\n",
    "extract the information relevant to shipping and \\ \n",
    "delivery. Limit to 30 words. \n",
    "\n",
    "Review: ```{prod_review}```\n",
    "\"\"\"\n",
    "\n",
    "response = get_completion(prompt)\n",
    "print(response)"
   ]
  },
  {
   "cell_type": "code",
   "execution_count": null,
   "id": "946f5058-d336-4c33-a170-a6676996a85f",
   "metadata": {},
   "outputs": [],
   "source": []
  }
 ],
 "metadata": {
  "kernelspec": {
   "display_name": "Python 3 (ipykernel)",
   "language": "python",
   "name": "python3"
  },
  "language_info": {
   "codemirror_mode": {
    "name": "ipython",
    "version": 3
   },
   "file_extension": ".py",
   "mimetype": "text/x-python",
   "name": "python",
   "nbconvert_exporter": "python",
   "pygments_lexer": "ipython3",
   "version": "3.11.3"
  }
 },
 "nbformat": 4,
 "nbformat_minor": 5
}

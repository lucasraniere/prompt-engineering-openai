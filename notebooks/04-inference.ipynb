{
 "cells": [
  {
   "cell_type": "code",
   "execution_count": 1,
   "id": "d1714389-7966-4f51-9ad2-8d1156d4a6d4",
   "metadata": {
    "execution": {
     "iopub.execute_input": "2023-05-24T17:05:20.441384Z",
     "iopub.status.busy": "2023-05-24T17:05:20.441240Z",
     "iopub.status.idle": "2023-05-24T17:05:20.687997Z",
     "shell.execute_reply": "2023-05-24T17:05:20.687569Z",
     "shell.execute_reply.started": "2023-05-24T17:05:20.441373Z"
    }
   },
   "outputs": [],
   "source": [
    "import sys, openai\n",
    "sys.path.insert(1, '../')\n",
    "from auth import auth\n",
    "\n",
    "openai.api_key = auth.SECRET_KEY"
   ]
  },
  {
   "cell_type": "code",
   "execution_count": 2,
   "id": "48761f58-eff6-48a2-acbe-cc37c5eed0fb",
   "metadata": {
    "execution": {
     "iopub.execute_input": "2023-05-24T17:05:27.802729Z",
     "iopub.status.busy": "2023-05-24T17:05:27.802492Z",
     "iopub.status.idle": "2023-05-24T17:05:27.805553Z",
     "shell.execute_reply": "2023-05-24T17:05:27.805066Z",
     "shell.execute_reply.started": "2023-05-24T17:05:27.802714Z"
    }
   },
   "outputs": [],
   "source": [
    "def get_completion(prompt, model=\"gpt-3.5-turbo\"):\n",
    "    messages = [{\"role\": \"user\", \"content\": prompt}]\n",
    "    response = openai.ChatCompletion.create(\n",
    "        model=model,\n",
    "        messages=messages,\n",
    "        temperature=0, # this is the degree of randomness of the model's output\n",
    "    )\n",
    "    return response.choices[0].message[\"content\"]"
   ]
  },
  {
   "cell_type": "markdown",
   "id": "3a98cbb8-4977-46e3-a116-7c221df4d275",
   "metadata": {},
   "source": [
    "### **Inferring**\n",
    "* One can infe sentiments and topics from product reviews and news articles\n",
    "\n",
    "#### Product review text"
   ]
  },
  {
   "cell_type": "code",
   "execution_count": 3,
   "id": "43f4224c-d3b5-4a71-8c15-36886c72cc2b",
   "metadata": {
    "execution": {
     "iopub.execute_input": "2023-05-24T17:14:26.466231Z",
     "iopub.status.busy": "2023-05-24T17:14:26.466095Z",
     "iopub.status.idle": "2023-05-24T17:14:26.468962Z",
     "shell.execute_reply": "2023-05-24T17:14:26.468357Z",
     "shell.execute_reply.started": "2023-05-24T17:14:26.466220Z"
    }
   },
   "outputs": [],
   "source": [
    "lamp_review = \"\"\"\n",
    "Needed a nice lamp for my bedroom, and this one had \\\n",
    "additional storage and not too high of a price point. \\\n",
    "Got it fast.  The string to our lamp broke during the \\\n",
    "transit and the company happily sent over a new one. \\\n",
    "Came within a few days as well. It was easy to put \\\n",
    "together.  I had a missing part, so I contacted their \\\n",
    "support and they very quickly got me the missing piece! \\\n",
    "Lumina seems to me to be a great company that cares \\\n",
    "about their customers and products!!\n",
    "\"\"\""
   ]
  },
  {
   "cell_type": "markdown",
   "id": "d2d8217c-30aa-486a-8fb3-0f318d872654",
   "metadata": {},
   "source": [
    "#### **Sentiment (possitive/negative)**"
   ]
  },
  {
   "cell_type": "code",
   "execution_count": 4,
   "id": "08fc92d5-61d5-4c7a-9e2b-287ea7efa35e",
   "metadata": {
    "execution": {
     "iopub.execute_input": "2023-05-24T17:14:53.182290Z",
     "iopub.status.busy": "2023-05-24T17:14:53.182094Z",
     "iopub.status.idle": "2023-05-24T17:14:55.659868Z",
     "shell.execute_reply": "2023-05-24T17:14:55.659510Z",
     "shell.execute_reply.started": "2023-05-24T17:14:53.182271Z"
    }
   },
   "outputs": [
    {
     "name": "stdout",
     "output_type": "stream",
     "text": [
      "The sentiment of the product review is positive.\n"
     ]
    }
   ],
   "source": [
    "prompt = f\"\"\"\n",
    "What is the sentiment of the following product review, \n",
    "which is delimited with triple backticks?\n",
    "\n",
    "Review text: '''{lamp_review}'''\n",
    "\"\"\"\n",
    "response = get_completion(prompt)\n",
    "print(response)"
   ]
  },
  {
   "cell_type": "code",
   "execution_count": 5,
   "id": "7b24d162-7fc7-4de6-bf82-19137cff33a6",
   "metadata": {
    "execution": {
     "iopub.execute_input": "2023-05-24T17:15:06.651307Z",
     "iopub.status.busy": "2023-05-24T17:15:06.651157Z",
     "iopub.status.idle": "2023-05-24T17:15:08.970597Z",
     "shell.execute_reply": "2023-05-24T17:15:08.969995Z",
     "shell.execute_reply.started": "2023-05-24T17:15:06.651296Z"
    }
   },
   "outputs": [
    {
     "name": "stdout",
     "output_type": "stream",
     "text": [
      "positive\n"
     ]
    }
   ],
   "source": [
    "prompt = f\"\"\"\n",
    "What is the sentiment of the following product review, \n",
    "which is delimited with triple backticks?\n",
    "\n",
    "Give your answer as a single word, either \"positive\" \\\n",
    "or \"negative\".\n",
    "\n",
    "Review text: '''{lamp_review}'''\n",
    "\"\"\"\n",
    "response = get_completion(prompt)\n",
    "print(response)"
   ]
  },
  {
   "cell_type": "markdown",
   "id": "1dc9b4a5-256b-4bc0-a0db-d48a1ec8359e",
   "metadata": {},
   "source": [
    "#### **Identify types of emotions**"
   ]
  },
  {
   "cell_type": "code",
   "execution_count": 6,
   "id": "3cb0f0fb-90d8-4fb7-9153-10d2548ce7fe",
   "metadata": {
    "execution": {
     "iopub.execute_input": "2023-05-24T17:15:56.714848Z",
     "iopub.status.busy": "2023-05-24T17:15:56.714666Z",
     "iopub.status.idle": "2023-05-24T17:15:58.903558Z",
     "shell.execute_reply": "2023-05-24T17:15:58.903201Z",
     "shell.execute_reply.started": "2023-05-24T17:15:56.714836Z"
    }
   },
   "outputs": [
    {
     "name": "stdout",
     "output_type": "stream",
     "text": [
      "happy, satisfied, grateful, impressed, content\n"
     ]
    }
   ],
   "source": [
    "prompt = f\"\"\"\n",
    "Identify a list of emotions that the writer of the \\\n",
    "following review is expressing. Include no more than \\\n",
    "five items in the list. Format your answer as a list of \\\n",
    "lower-case words separated by commas.\n",
    "\n",
    "Review text: '''{lamp_review}'''\n",
    "\"\"\"\n",
    "response = get_completion(prompt)\n",
    "print(response)"
   ]
  },
  {
   "cell_type": "markdown",
   "id": "f365eda0-0b3f-4c48-abd2-de9d198879d7",
   "metadata": {},
   "source": [
    "#### **Identify anger**"
   ]
  },
  {
   "cell_type": "code",
   "execution_count": 7,
   "id": "7df1d8bc-3fa5-411b-9f3b-6660afcf18d6",
   "metadata": {
    "execution": {
     "iopub.execute_input": "2023-05-24T17:16:25.578665Z",
     "iopub.status.busy": "2023-05-24T17:16:25.578493Z",
     "iopub.status.idle": "2023-05-24T17:16:26.488920Z",
     "shell.execute_reply": "2023-05-24T17:16:26.488437Z",
     "shell.execute_reply.started": "2023-05-24T17:16:25.578652Z"
    }
   },
   "outputs": [
    {
     "name": "stdout",
     "output_type": "stream",
     "text": [
      "No\n"
     ]
    }
   ],
   "source": [
    "prompt = f\"\"\"\n",
    "Is the writer of the following review expressing anger?\\\n",
    "The review is delimited with triple backticks. \\\n",
    "Give your answer as either yes or no.\n",
    "\n",
    "Review text: '''{lamp_review}'''\n",
    "\"\"\"\n",
    "response = get_completion(prompt)\n",
    "print(response)"
   ]
  },
  {
   "cell_type": "markdown",
   "id": "a3d0850b-e3c2-4760-bae4-618acd9c208f",
   "metadata": {},
   "source": [
    "#### **Extract product and company name from customer**"
   ]
  },
  {
   "cell_type": "code",
   "execution_count": 8,
   "id": "1b3aff53-c689-4d50-a0bf-ab261e9f610f",
   "metadata": {
    "execution": {
     "iopub.execute_input": "2023-05-24T17:16:58.723247Z",
     "iopub.status.busy": "2023-05-24T17:16:58.723050Z",
     "iopub.status.idle": "2023-05-24T17:17:04.068124Z",
     "shell.execute_reply": "2023-05-24T17:17:04.067742Z",
     "shell.execute_reply.started": "2023-05-24T17:16:58.723234Z"
    }
   },
   "outputs": [
    {
     "name": "stdout",
     "output_type": "stream",
     "text": [
      "{\n",
      "  \"Item\": \"lamp\",\n",
      "  \"Brand\": \"Lumina\"\n",
      "}\n"
     ]
    }
   ],
   "source": [
    "prompt = f\"\"\"\n",
    "Identify the following items from the review text: \n",
    "- Item purchased by reviewer\n",
    "- Company that made the item\n",
    "\n",
    "The review is delimited with triple backticks. \\\n",
    "Format your response as a JSON object with \\\n",
    "\"Item\" and \"Brand\" as the keys. \n",
    "If the information isn't present, use \"unknown\" \\\n",
    "as the value.\n",
    "Make your response as short as possible.\n",
    "  \n",
    "Review text: '''{lamp_review}'''\n",
    "\"\"\"\n",
    "response = get_completion(prompt)\n",
    "print(response)"
   ]
  },
  {
   "cell_type": "markdown",
   "id": "3729aae6-5c27-4bcd-8936-7014c72afc40",
   "metadata": {},
   "source": [
    "#### **Doing multiple tasks at once**"
   ]
  },
  {
   "cell_type": "code",
   "execution_count": 9,
   "id": "09332061-82d7-4095-a5e0-3842bd6c9e80",
   "metadata": {
    "execution": {
     "iopub.execute_input": "2023-05-24T17:17:30.586543Z",
     "iopub.status.busy": "2023-05-24T17:17:30.586401Z",
     "iopub.status.idle": "2023-05-24T17:17:36.272441Z",
     "shell.execute_reply": "2023-05-24T17:17:36.272112Z",
     "shell.execute_reply.started": "2023-05-24T17:17:30.586532Z"
    }
   },
   "outputs": [
    {
     "name": "stdout",
     "output_type": "stream",
     "text": [
      "{\n",
      "  \"Sentiment\": \"positive\",\n",
      "  \"Anger\": false,\n",
      "  \"Item\": \"lamp with additional storage\",\n",
      "  \"Brand\": \"Lumina\"\n",
      "}\n"
     ]
    }
   ],
   "source": [
    "prompt = f\"\"\"\n",
    "Identify the following items from the review text: \n",
    "- Sentiment (positive or negative)\n",
    "- Is the reviewer expressing anger? (true or false)\n",
    "- Item purchased by reviewer\n",
    "- Company that made the item\n",
    "\n",
    "The review is delimited with triple backticks. \\\n",
    "Format your response as a JSON object with \\\n",
    "\"Sentiment\", \"Anger\", \"Item\" and \"Brand\" as the keys.\n",
    "If the information isn't present, use \"unknown\" \\\n",
    "as the value.\n",
    "Make your response as short as possible.\n",
    "Format the Anger value as a boolean.\n",
    "\n",
    "Review text: '''{lamp_review}'''\n",
    "\"\"\"\n",
    "response = get_completion(prompt)\n",
    "print(response)"
   ]
  },
  {
   "cell_type": "markdown",
   "id": "ec12b254-a9c0-4a2f-8658-da888c26702f",
   "metadata": {},
   "source": [
    "### **Inferring topics**"
   ]
  },
  {
   "cell_type": "code",
   "execution_count": 10,
   "id": "9a209e4d-2929-4ff8-9cde-f1c285c0858c",
   "metadata": {
    "execution": {
     "iopub.execute_input": "2023-05-24T17:18:02.458341Z",
     "iopub.status.busy": "2023-05-24T17:18:02.458187Z",
     "iopub.status.idle": "2023-05-24T17:18:02.460720Z",
     "shell.execute_reply": "2023-05-24T17:18:02.460450Z",
     "shell.execute_reply.started": "2023-05-24T17:18:02.458331Z"
    }
   },
   "outputs": [],
   "source": [
    "story = \"\"\"\n",
    "In a recent survey conducted by the government, \n",
    "public sector employees were asked to rate their level \n",
    "of satisfaction with the department they work at. \n",
    "The results revealed that NASA was the most popular \n",
    "department with a satisfaction rating of 95%.\n",
    "\n",
    "One NASA employee, John Smith, commented on the findings, \n",
    "stating, \"I'm not surprised that NASA came out on top. \n",
    "It's a great place to work with amazing people and \n",
    "incredible opportunities. I'm proud to be a part of \n",
    "such an innovative organization.\"\n",
    "\n",
    "The results were also welcomed by NASA's management team, \n",
    "with Director Tom Johnson stating, \"We are thrilled to \n",
    "hear that our employees are satisfied with their work at NASA. \n",
    "We have a talented and dedicated team who work tirelessly \n",
    "to achieve our goals, and it's fantastic to see that their \n",
    "hard work is paying off.\"\n",
    "\n",
    "The survey also revealed that the \n",
    "Social Security Administration had the lowest satisfaction \n",
    "rating, with only 45% of employees indicating they were \n",
    "satisfied with their job. The government has pledged to \n",
    "address the concerns raised by employees in the survey and \n",
    "work towards improving job satisfaction across all departments.\n",
    "\"\"\""
   ]
  },
  {
   "cell_type": "markdown",
   "id": "00e5d7cd-ffce-49cc-9ce3-efc30ccceb22",
   "metadata": {},
   "source": [
    "#### **Infer 5 topics**"
   ]
  },
  {
   "cell_type": "code",
   "execution_count": 11,
   "id": "e1f18044-6b6d-43e3-8d40-230b31e15f86",
   "metadata": {
    "execution": {
     "iopub.execute_input": "2023-05-24T17:18:22.957159Z",
     "iopub.status.busy": "2023-05-24T17:18:22.956752Z",
     "iopub.status.idle": "2023-05-24T17:18:26.085831Z",
     "shell.execute_reply": "2023-05-24T17:18:26.085458Z",
     "shell.execute_reply.started": "2023-05-24T17:18:22.957145Z"
    }
   },
   "outputs": [
    {
     "name": "stdout",
     "output_type": "stream",
     "text": [
      "government survey, job satisfaction, NASA, Social Security Administration, employee concerns\n"
     ]
    }
   ],
   "source": [
    "prompt = f\"\"\"\n",
    "Determine five topics that are being discussed in the \\\n",
    "following text, which is delimited by triple backticks.\n",
    "\n",
    "Make each item one or two words long. \n",
    "\n",
    "Format your response as a list of items separated by commas.\n",
    "\n",
    "Text sample: '''{story}'''\n",
    "\"\"\"\n",
    "response = get_completion(prompt)\n",
    "print(response)"
   ]
  },
  {
   "cell_type": "code",
   "execution_count": 12,
   "id": "2c669bf2-0443-4490-95f9-969c4da633d7",
   "metadata": {
    "execution": {
     "iopub.execute_input": "2023-05-24T17:18:30.780576Z",
     "iopub.status.busy": "2023-05-24T17:18:30.780384Z",
     "iopub.status.idle": "2023-05-24T17:18:30.784722Z",
     "shell.execute_reply": "2023-05-24T17:18:30.784400Z",
     "shell.execute_reply.started": "2023-05-24T17:18:30.780563Z"
    }
   },
   "outputs": [
    {
     "data": {
      "text/plain": [
       "['government survey',\n",
       " ' job satisfaction',\n",
       " ' NASA',\n",
       " ' Social Security Administration',\n",
       " ' employee concerns']"
      ]
     },
     "execution_count": 12,
     "metadata": {},
     "output_type": "execute_result"
    }
   ],
   "source": [
    "response.split(sep=',')"
   ]
  },
  {
   "cell_type": "markdown",
   "id": "6d08fbae-b672-415a-bcfc-adf6fb133d7b",
   "metadata": {
    "execution": {
     "iopub.execute_input": "2023-05-24T17:19:06.954814Z",
     "iopub.status.busy": "2023-05-24T17:19:06.954660Z",
     "iopub.status.idle": "2023-05-24T17:19:06.956951Z",
     "shell.execute_reply": "2023-05-24T17:19:06.956662Z",
     "shell.execute_reply.started": "2023-05-24T17:19:06.954804Z"
    }
   },
   "source": [
    "#### **Make a news alert for certain topics**"
   ]
  },
  {
   "cell_type": "code",
   "execution_count": 15,
   "id": "d3fca890-c947-4442-8553-a1f0b9536899",
   "metadata": {
    "execution": {
     "iopub.execute_input": "2023-05-24T17:19:32.783712Z",
     "iopub.status.busy": "2023-05-24T17:19:32.783498Z",
     "iopub.status.idle": "2023-05-24T17:19:38.080058Z",
     "shell.execute_reply": "2023-05-24T17:19:38.079730Z",
     "shell.execute_reply.started": "2023-05-24T17:19:32.783693Z"
    },
    "tags": []
   },
   "outputs": [
    {
     "name": "stdout",
     "output_type": "stream",
     "text": [
      "nasa: 1\n",
      "local government: 0\n",
      "engineering: 0\n",
      "employee satisfaction: 1\n",
      "federal government: 1\n"
     ]
    }
   ],
   "source": [
    "topic_list = [\n",
    "    \"nasa\", \"local government\", \"engineering\", \n",
    "    \"employee satisfaction\", \"federal government\"\n",
    "]\n",
    "\n",
    "prompt = f\"\"\"\n",
    "Determine whether each item in the following list of \\\n",
    "topics is a topic in the text below, which\n",
    "is delimited with triple backticks.\n",
    "\n",
    "Give your answer as list with 0 or 1 for each topic.\\\n",
    "\n",
    "List of topics: {\", \".join(topic_list)}\n",
    "\n",
    "Text sample: '''{story}'''\n",
    "\"\"\"\n",
    "response = get_completion(prompt)\n",
    "print(response)"
   ]
  },
  {
   "cell_type": "code",
   "execution_count": 16,
   "id": "50a599f1-9e42-4334-a97b-46241d3c6a61",
   "metadata": {
    "execution": {
     "iopub.execute_input": "2023-05-24T17:19:50.396368Z",
     "iopub.status.busy": "2023-05-24T17:19:50.396174Z",
     "iopub.status.idle": "2023-05-24T17:19:50.399005Z",
     "shell.execute_reply": "2023-05-24T17:19:50.398547Z",
     "shell.execute_reply.started": "2023-05-24T17:19:50.396356Z"
    }
   },
   "outputs": [
    {
     "name": "stdout",
     "output_type": "stream",
     "text": [
      "ALERT: New NASA story!\n"
     ]
    }
   ],
   "source": [
    "topic_dict = {i.split(': ')[0]: int(i.split(': ')[1]) for i in response.split(sep='\\n')}\n",
    "if topic_dict['nasa'] == 1:\n",
    "    print(\"ALERT: New NASA story!\")"
   ]
  },
  {
   "cell_type": "code",
   "execution_count": null,
   "id": "1b58f900-4e54-4ab4-8c65-5e829c885d6b",
   "metadata": {},
   "outputs": [],
   "source": []
  }
 ],
 "metadata": {
  "kernelspec": {
   "display_name": "Python 3 (ipykernel)",
   "language": "python",
   "name": "python3"
  },
  "language_info": {
   "codemirror_mode": {
    "name": "ipython",
    "version": 3
   },
   "file_extension": ".py",
   "mimetype": "text/x-python",
   "name": "python",
   "nbconvert_exporter": "python",
   "pygments_lexer": "ipython3",
   "version": "3.11.3"
  }
 },
 "nbformat": 4,
 "nbformat_minor": 5
}

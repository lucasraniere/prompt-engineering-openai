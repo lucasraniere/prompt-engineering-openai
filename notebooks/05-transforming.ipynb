{
 "cells": [
  {
   "cell_type": "code",
   "execution_count": 1,
   "id": "69414fb8-b278-44d8-867f-8a803b527c64",
   "metadata": {
    "execution": {
     "iopub.execute_input": "2023-05-24T17:52:29.666190Z",
     "iopub.status.busy": "2023-05-24T17:52:29.665947Z",
     "iopub.status.idle": "2023-05-24T17:52:29.892075Z",
     "shell.execute_reply": "2023-05-24T17:52:29.891700Z",
     "shell.execute_reply.started": "2023-05-24T17:52:29.666168Z"
    }
   },
   "outputs": [],
   "source": [
    "import sys, openai\n",
    "sys.path.insert(1, '../')\n",
    "from auth import auth\n",
    "\n",
    "openai.api_key = auth.SECRET_KEY"
   ]
  },
  {
   "cell_type": "code",
   "execution_count": 2,
   "id": "5876eb62-d8dd-4527-a425-a464f32608e7",
   "metadata": {
    "execution": {
     "iopub.execute_input": "2023-05-24T17:52:37.523248Z",
     "iopub.status.busy": "2023-05-24T17:52:37.522702Z",
     "iopub.status.idle": "2023-05-24T17:52:37.525598Z",
     "shell.execute_reply": "2023-05-24T17:52:37.525276Z",
     "shell.execute_reply.started": "2023-05-24T17:52:37.523233Z"
    }
   },
   "outputs": [],
   "source": [
    "def get_completion(prompt, model=\"gpt-3.5-turbo\"):\n",
    "    messages = [{\"role\": \"user\", \"content\": prompt}]\n",
    "    response = openai.ChatCompletion.create(\n",
    "        model=model,\n",
    "        messages=messages,\n",
    "        temperature=0, # this is the degree of randomness of the model's output\n",
    "    )\n",
    "    return response.choices[0].message[\"content\"]"
   ]
  },
  {
   "cell_type": "markdown",
   "id": "b0baea44-480e-4de7-a5e0-b4daf5c5d81a",
   "metadata": {},
   "source": [
    "### **Transforming**\n",
    "\n",
    "Transformation tasks\n",
    "\n",
    "* language translation\n",
    "* spelling and grammar checking\n",
    "* tone adjustment\n",
    "* format converion"
   ]
  },
  {
   "cell_type": "markdown",
   "id": "a4eb7e85-a458-45f1-9fa6-0be8b20aa43c",
   "metadata": {},
   "source": [
    "#### **Translation**"
   ]
  },
  {
   "cell_type": "code",
   "execution_count": 3,
   "id": "74d202fa-8ca4-4af8-8a95-78273d342a26",
   "metadata": {
    "execution": {
     "iopub.execute_input": "2023-05-24T17:54:46.777478Z",
     "iopub.status.busy": "2023-05-24T17:54:46.777314Z",
     "iopub.status.idle": "2023-05-24T17:54:50.935871Z",
     "shell.execute_reply": "2023-05-24T17:54:50.935498Z",
     "shell.execute_reply.started": "2023-05-24T17:54:46.777467Z"
    }
   },
   "outputs": [
    {
     "name": "stdout",
     "output_type": "stream",
     "text": [
      "Olá, eu gostaria de pedir um liquidificador.\n"
     ]
    }
   ],
   "source": [
    "prompt = f\"\"\"\n",
    "Translate the following English text to Portuguese: \\ \n",
    "```Hi, I would like to order a blender```\n",
    "\"\"\"\n",
    "response = get_completion(prompt)\n",
    "print(response)"
   ]
  },
  {
   "cell_type": "code",
   "execution_count": 4,
   "id": "34cdc2b5-3de6-4b84-a0bb-e966f2e756d1",
   "metadata": {
    "execution": {
     "iopub.execute_input": "2023-05-24T17:55:03.827226Z",
     "iopub.status.busy": "2023-05-24T17:55:03.827072Z",
     "iopub.status.idle": "2023-05-24T17:55:06.495654Z",
     "shell.execute_reply": "2023-05-24T17:55:06.495253Z",
     "shell.execute_reply.started": "2023-05-24T17:55:03.827214Z"
    }
   },
   "outputs": [
    {
     "name": "stdout",
     "output_type": "stream",
     "text": [
      "This is French.\n"
     ]
    }
   ],
   "source": [
    "prompt = f\"\"\"\n",
    "Tell me which language this is: \n",
    "```Combien coûte le lampadaire?```\n",
    "\"\"\"\n",
    "response = get_completion(prompt)\n",
    "print(response)"
   ]
  },
  {
   "cell_type": "code",
   "execution_count": 5,
   "id": "5044a849-68e7-4463-8d8e-028440fe2ad8",
   "metadata": {
    "execution": {
     "iopub.execute_input": "2023-05-24T17:55:22.347661Z",
     "iopub.status.busy": "2023-05-24T17:55:22.347226Z",
     "iopub.status.idle": "2023-05-24T17:55:34.041491Z",
     "shell.execute_reply": "2023-05-24T17:55:34.041094Z",
     "shell.execute_reply.started": "2023-05-24T17:55:22.347632Z"
    }
   },
   "outputs": [
    {
     "name": "stdout",
     "output_type": "stream",
     "text": [
      "French pirate: ```Je veux commander un ballon de basket```\n",
      "Spanish pirate: ```Quiero pedir una pelota de baloncesto```\n",
      "English pirate: ```I want to order a basketball```\n"
     ]
    }
   ],
   "source": [
    "prompt = f\"\"\"\n",
    "Translate the following  text to French and Spanish\n",
    "and English pirate: \\\n",
    "```I want to order a basketball```\n",
    "\"\"\"\n",
    "response = get_completion(prompt)\n",
    "print(response)"
   ]
  },
  {
   "cell_type": "code",
   "execution_count": 6,
   "id": "c625bedb-52af-446f-9f9c-0b13685f14fa",
   "metadata": {
    "execution": {
     "iopub.execute_input": "2023-05-24T17:55:34.042310Z",
     "iopub.status.busy": "2023-05-24T17:55:34.042161Z",
     "iopub.status.idle": "2023-05-24T17:55:40.007656Z",
     "shell.execute_reply": "2023-05-24T17:55:40.007315Z",
     "shell.execute_reply.started": "2023-05-24T17:55:34.042294Z"
    }
   },
   "outputs": [
    {
     "name": "stdout",
     "output_type": "stream",
     "text": [
      "Formal: ¿Le gustaría ordenar una almohada?\n",
      "Informal: ¿Te gustaría ordenar una almohada?\n"
     ]
    }
   ],
   "source": [
    "prompt = f\"\"\"\n",
    "Translate the following text to Spanish in both the \\\n",
    "formal and informal forms: \n",
    "'Would you like to order a pillow?'\n",
    "\"\"\"\n",
    "response = get_completion(prompt)\n",
    "print(response)"
   ]
  },
  {
   "cell_type": "markdown",
   "id": "5d4319e7-ad06-4a39-a556-87076a3a0175",
   "metadata": {},
   "source": [
    "#### Universal translator"
   ]
  },
  {
   "cell_type": "code",
   "execution_count": 7,
   "id": "ad511941-07df-43d7-828c-9cc2162426e2",
   "metadata": {
    "execution": {
     "iopub.execute_input": "2023-05-24T17:58:23.329598Z",
     "iopub.status.busy": "2023-05-24T17:58:23.329395Z",
     "iopub.status.idle": "2023-05-24T17:58:23.332017Z",
     "shell.execute_reply": "2023-05-24T17:58:23.331551Z",
     "shell.execute_reply.started": "2023-05-24T17:58:23.329585Z"
    }
   },
   "outputs": [],
   "source": [
    "user_messages = [\n",
    "  \"La performance du système est plus lente que d'habitude.\",  # System performance is slower than normal         \n",
    "  \"Mi monitor tiene píxeles que no se iluminan.\",              # My monitor has pixels that are not lighting\n",
    "  \"Il mio mouse non funziona\",                                 # My mouse is not working\n",
    "  \"Mój klawisz Ctrl jest zepsuty\",                             # My keyboard has a broken control key\n",
    "  \"我的屏幕在闪烁\"                                               # My screen is flashing\n",
    "] "
   ]
  },
  {
   "cell_type": "code",
   "execution_count": 10,
   "id": "d02163b7-12c9-4376-b57c-99d48028ed39",
   "metadata": {
    "execution": {
     "iopub.execute_input": "2023-05-24T18:00:17.439006Z",
     "iopub.status.busy": "2023-05-24T18:00:17.438813Z",
     "iopub.status.idle": "2023-05-24T18:00:56.672931Z",
     "shell.execute_reply": "2023-05-24T18:00:56.672386Z",
     "shell.execute_reply.started": "2023-05-24T18:00:17.438995Z"
    },
    "tags": []
   },
   "outputs": [
    {
     "name": "stdout",
     "output_type": "stream",
     "text": [
      "Original message (This is French.): La performance du système est plus lente que d'habitude.\n",
      "English: The system performance is slower than usual.\n",
      "Korean: 시스템 성능이 평소보다 느립니다. \n",
      "\n",
      "Original message (This is Spanish.): Mi monitor tiene píxeles que no se iluminan.\n",
      "English: My monitor has pixels that don't light up.\n",
      "Korean: 내 모니터에는 불이 켜지지 않는 픽셀이 있습니다. \n",
      "\n",
      "Original message (This is Italian.): Il mio mouse non funziona\n",
      "English: My mouse is not working.\n",
      "Korean: 내 마우스가 작동하지 않습니다. \n",
      "\n",
      "Original message (This is Polish.): Mój klawisz Ctrl jest zepsuty\n",
      "English: My Ctrl key is broken.\n",
      "Korean: 제 Ctrl 키가 고장 났어요. \n",
      "\n",
      "Original message (This is Chinese (Simplified).): 我的屏幕在闪烁\n",
      "English: My screen is flickering.\n",
      "Korean: 내 화면이 깜빡입니다. \n",
      "\n"
     ]
    }
   ],
   "source": [
    "for issue in user_messages:\n",
    "    prompt = f\"Tell me what language this is: ```{issue}```\"\n",
    "    lang = get_completion(prompt)\n",
    "    print(f\"Original message ({lang}): {issue}\")\n",
    "\n",
    "    prompt = f\"\"\"\n",
    "    Translate the following  text to English \\\n",
    "    and Korean: ```{issue}```\n",
    "    \"\"\"\n",
    "    response = get_completion(prompt)\n",
    "    print(response, \"\\n\")"
   ]
  },
  {
   "cell_type": "markdown",
   "id": "dc7600f5-4c2b-42f9-8d83-2374cf8ef5ac",
   "metadata": {},
   "source": [
    "#### **Tone Transformation**\n",
    "\n",
    "Writing can vary based on the intended audience. ChatGPT can produce different tones."
   ]
  },
  {
   "cell_type": "code",
   "execution_count": 11,
   "id": "7fe6116f-69f1-4f7a-a727-4088a3d4f772",
   "metadata": {
    "execution": {
     "iopub.execute_input": "2023-05-24T18:02:40.699142Z",
     "iopub.status.busy": "2023-05-24T18:02:40.698998Z",
     "iopub.status.idle": "2023-05-24T18:02:48.019647Z",
     "shell.execute_reply": "2023-05-24T18:02:48.019267Z",
     "shell.execute_reply.started": "2023-05-24T18:02:40.699131Z"
    }
   },
   "outputs": [
    {
     "name": "stdout",
     "output_type": "stream",
     "text": [
      "Dear Sir/Madam,\n",
      "\n",
      "I am writing to bring to your attention a standing lamp that I believe may be of interest to you. Please find attached the specifications for your review.\n",
      "\n",
      "Thank you for your time and consideration.\n",
      "\n",
      "Sincerely,\n",
      "\n",
      "Joe\n"
     ]
    }
   ],
   "source": [
    "prompt = f\"\"\"\n",
    "Translate the following from slang to a business letter: \n",
    "'Dude, This is Joe, check out this spec on this standing lamp.'\n",
    "\"\"\"\n",
    "response = get_completion(prompt)\n",
    "print(response)"
   ]
  },
  {
   "cell_type": "markdown",
   "id": "dfa14f79-8f82-40ac-94ae-954cc05e3390",
   "metadata": {},
   "source": [
    "#### **Format Converion**\n",
    "\n",
    "ChatGPT can translate between formats. The prompt should describe the input and output formats."
   ]
  },
  {
   "cell_type": "code",
   "execution_count": 12,
   "id": "aa053495-a983-4f4b-8ea9-cdd4c781b3c1",
   "metadata": {
    "execution": {
     "iopub.execute_input": "2023-05-24T18:04:06.116422Z",
     "iopub.status.busy": "2023-05-24T18:04:06.116237Z",
     "iopub.status.idle": "2023-05-24T18:04:28.988742Z",
     "shell.execute_reply": "2023-05-24T18:04:28.988353Z",
     "shell.execute_reply.started": "2023-05-24T18:04:06.116410Z"
    }
   },
   "outputs": [
    {
     "name": "stdout",
     "output_type": "stream",
     "text": [
      "<table>\n",
      "  <caption>Restaurant Employees</caption>\n",
      "  <thead>\n",
      "    <tr>\n",
      "      <th>Name</th>\n",
      "      <th>Email</th>\n",
      "    </tr>\n",
      "  </thead>\n",
      "  <tbody>\n",
      "    <tr>\n",
      "      <td>Shyam</td>\n",
      "      <td>shyamjaiswal@gmail.com</td>\n",
      "    </tr>\n",
      "    <tr>\n",
      "      <td>Bob</td>\n",
      "      <td>bob32@gmail.com</td>\n",
      "    </tr>\n",
      "    <tr>\n",
      "      <td>Jai</td>\n",
      "      <td>jai87@gmail.com</td>\n",
      "    </tr>\n",
      "  </tbody>\n",
      "</table>\n"
     ]
    }
   ],
   "source": [
    "data_json = { \"resturant employees\" :[ \n",
    "    {\"name\":\"Shyam\", \"email\":\"shyamjaiswal@gmail.com\"},\n",
    "    {\"name\":\"Bob\", \"email\":\"bob32@gmail.com\"},\n",
    "    {\"name\":\"Jai\", \"email\":\"jai87@gmail.com\"}\n",
    "]}\n",
    "\n",
    "prompt = f\"\"\"\n",
    "Translate the following python dictionary from JSON to an HTML \\\n",
    "table with column headers and title: {data_json}\n",
    "\"\"\"\n",
    "response = get_completion(prompt)\n",
    "print(response)"
   ]
  },
  {
   "cell_type": "code",
   "execution_count": 13,
   "id": "6576cbff-1f9c-42a3-8cc2-45d7e435207b",
   "metadata": {
    "execution": {
     "iopub.execute_input": "2023-05-24T18:04:28.989539Z",
     "iopub.status.busy": "2023-05-24T18:04:28.989374Z",
     "iopub.status.idle": "2023-05-24T18:04:28.993636Z",
     "shell.execute_reply": "2023-05-24T18:04:28.993316Z",
     "shell.execute_reply.started": "2023-05-24T18:04:28.989527Z"
    }
   },
   "outputs": [
    {
     "data": {
      "text/html": [
       "<table>\n",
       "  <caption>Restaurant Employees</caption>\n",
       "  <thead>\n",
       "    <tr>\n",
       "      <th>Name</th>\n",
       "      <th>Email</th>\n",
       "    </tr>\n",
       "  </thead>\n",
       "  <tbody>\n",
       "    <tr>\n",
       "      <td>Shyam</td>\n",
       "      <td>shyamjaiswal@gmail.com</td>\n",
       "    </tr>\n",
       "    <tr>\n",
       "      <td>Bob</td>\n",
       "      <td>bob32@gmail.com</td>\n",
       "    </tr>\n",
       "    <tr>\n",
       "      <td>Jai</td>\n",
       "      <td>jai87@gmail.com</td>\n",
       "    </tr>\n",
       "  </tbody>\n",
       "</table>"
      ],
      "text/plain": [
       "<IPython.core.display.HTML object>"
      ]
     },
     "metadata": {},
     "output_type": "display_data"
    }
   ],
   "source": [
    "from IPython.display import display, Markdown, Latex, HTML, JSON\n",
    "display(HTML(response))"
   ]
  },
  {
   "cell_type": "markdown",
   "id": "71b6f20a-0818-484b-bac6-4b253cf32e93",
   "metadata": {},
   "source": [
    "### **Spell/Grammar Check**"
   ]
  },
  {
   "cell_type": "code",
   "execution_count": 14,
   "id": "fd1f7fa4-7d92-4c73-9c23-86f52cc9aa5f",
   "metadata": {
    "execution": {
     "iopub.execute_input": "2023-05-24T18:10:41.859664Z",
     "iopub.status.busy": "2023-05-24T18:10:41.859487Z",
     "iopub.status.idle": "2023-05-24T18:11:07.442155Z",
     "shell.execute_reply": "2023-05-24T18:11:07.441640Z",
     "shell.execute_reply.started": "2023-05-24T18:10:41.859652Z"
    }
   },
   "outputs": [
    {
     "name": "stdout",
     "output_type": "stream",
     "text": [
      "The girl with the black and white puppies has a ball.\n",
      "No errors found.\n",
      "It's going to be a long day. Does the car need its oil changed?\n",
      "Their goes my freedom. There going to bring they're suitcases.\n",
      "\n",
      "Corrected version: \n",
      "There goes my freedom. They're going to bring their suitcases.\n",
      "You're going to need your notebook.\n",
      "That medicine affects my ability to sleep. Have you heard of the butterfly effect?\n",
      "This phrase is to check ChatGPT for spelling ability.\n"
     ]
    }
   ],
   "source": [
    "text = [ \n",
    "  \"The girl with the black and white puppies have a ball.\",  # The girl has a ball.\n",
    "  \"Yolanda has her notebook.\", # ok\n",
    "  \"Its going to be a long day. Does the car need it’s oil changed?\",  # Homonyms\n",
    "  \"Their goes my freedom. There going to bring they’re suitcases.\",  # Homonyms\n",
    "  \"Your going to need you’re notebook.\",  # Homonyms\n",
    "  \"That medicine effects my ability to sleep. Have you heard of the butterfly affect?\", # Homonyms\n",
    "  \"This phrase is to cherck chatGPT for speling abilitty\"  # spelling\n",
    "]\n",
    "for t in text:\n",
    "    prompt = f\"\"\"Proofread and correct the following text\n",
    "    and rewrite the corrected version. If you don't find\n",
    "    and errors, just say \"No errors found\". Don't use \n",
    "    any punctuation around the text:\n",
    "    ```{t}```\"\"\"\n",
    "    response = get_completion(prompt)\n",
    "    print(response)"
   ]
  },
  {
   "cell_type": "code",
   "execution_count": 15,
   "id": "bbe4bfc7-04f3-4b9c-bb8e-a4a818a58b0e",
   "metadata": {
    "execution": {
     "iopub.execute_input": "2023-05-24T18:11:15.779188Z",
     "iopub.status.busy": "2023-05-24T18:11:15.779047Z",
     "iopub.status.idle": "2023-05-24T18:11:32.816418Z",
     "shell.execute_reply": "2023-05-24T18:11:32.816084Z",
     "shell.execute_reply.started": "2023-05-24T18:11:15.779178Z"
    }
   },
   "outputs": [
    {
     "name": "stdout",
     "output_type": "stream",
     "text": [
      "I got this for my daughter's birthday because she keeps taking mine from my room. Yes, adults also like pandas too. She takes it everywhere with her, and it's super soft and cute. However, one of the ears is a bit lower than the other, and I don't think that was designed to be asymmetrical. Additionally, it's a bit small for what I paid for it. I think there might be other options that are bigger for the same price. On the positive side, it arrived a day earlier than expected, so I got to play with it myself before I gave it to my daughter.\n"
     ]
    }
   ],
   "source": [
    "text = f\"\"\"\n",
    "Got this for my daughter for her birthday cuz she keeps taking \\\n",
    "mine from my room.  Yes, adults also like pandas too.  She takes \\\n",
    "it everywhere with her, and it's super soft and cute.  One of the \\\n",
    "ears is a bit lower than the other, and I don't think that was \\\n",
    "designed to be asymmetrical. It's a bit small for what I paid for it \\\n",
    "though. I think there might be other options that are bigger for \\\n",
    "the same price.  It arrived a day earlier than expected, so I got \\\n",
    "to play with it myself before I gave it to my daughter.\n",
    "\"\"\"\n",
    "prompt = f\"proofread and correct this review: ```{text}```\"\n",
    "response = get_completion(prompt)\n",
    "print(response)"
   ]
  },
  {
   "cell_type": "code",
   "execution_count": 18,
   "id": "fc0c50ef-55cd-47ab-b40d-b0d9bd190e46",
   "metadata": {
    "execution": {
     "iopub.execute_input": "2023-05-24T18:11:53.550427Z",
     "iopub.status.busy": "2023-05-24T18:11:53.550271Z",
     "iopub.status.idle": "2023-05-24T18:11:53.555170Z",
     "shell.execute_reply": "2023-05-24T18:11:53.554825Z",
     "shell.execute_reply.started": "2023-05-24T18:11:53.550415Z"
    },
    "tags": []
   },
   "outputs": [
    {
     "data": {
      "text/markdown": [
       "<span style=\"color:red;font-weight:700;text-decoration:line-through;\">Got </span><span style=\"color:red;font-weight:700;\">I got </span>this for my <span style=\"color:red;font-weight:700;text-decoration:line-through;\">daughter for her </span><span style=\"color:red;font-weight:700;\">daughter's </span>birthday <span style=\"color:red;font-weight:700;text-decoration:line-through;\">cuz </span><span style=\"color:red;font-weight:700;\">because </span>she keeps taking mine from my <span style=\"color:red;font-weight:700;text-decoration:line-through;\">room.  </span><span style=\"color:red;font-weight:700;\">room. </span>Yes, adults also like pandas <span style=\"color:red;font-weight:700;text-decoration:line-through;\">too.  </span><span style=\"color:red;font-weight:700;\">too. </span>She takes it everywhere with her, and it's super soft and <span style=\"color:red;font-weight:700;text-decoration:line-through;\">cute.  One </span><span style=\"color:red;font-weight:700;\">cute. However, one </span>of the ears is a bit lower than the other, and I don't think that was designed to be asymmetrical. <span style=\"color:red;font-weight:700;text-decoration:line-through;\">It's </span><span style=\"color:red;font-weight:700;\">Additionally, it's </span>a bit small for what I paid for <span style=\"color:red;font-weight:700;text-decoration:line-through;\">it though. </span><span style=\"color:red;font-weight:700;\">it. </span>I think there might be other options that are bigger for the same <span style=\"color:red;font-weight:700;text-decoration:line-through;\">price.  It </span><span style=\"color:red;font-weight:700;\">price. On the positive side, it </span>arrived a day earlier than expected, so I got to play with it myself before I gave it to my daughter."
      ],
      "text/plain": [
       "<IPython.core.display.Markdown object>"
      ]
     },
     "metadata": {},
     "output_type": "display_data"
    }
   ],
   "source": [
    "from redlines import Redlines\n",
    "\n",
    "diff = Redlines(text,response)\n",
    "display(Markdown(diff.output_markdown))"
   ]
  },
  {
   "cell_type": "code",
   "execution_count": 19,
   "id": "bbffc996-29d6-43f6-985e-b914f57fec6b",
   "metadata": {
    "execution": {
     "iopub.execute_input": "2023-05-24T18:42:02.364468Z",
     "iopub.status.busy": "2023-05-24T18:42:02.364244Z",
     "iopub.status.idle": "2023-05-24T18:42:38.907717Z",
     "shell.execute_reply": "2023-05-24T18:42:38.907315Z",
     "shell.execute_reply.started": "2023-05-24T18:42:02.364455Z"
    }
   },
   "outputs": [
    {
     "data": {
      "text/markdown": [
       "Title: A Soft and Cute Panda Plushie for All Ages\n",
       "\n",
       "As an adult, I can attest that pandas are not just for kids. That's why I got this adorable panda plushie for my daughter's birthday, after she kept taking mine from my room. And let me tell you, it was a hit!\n",
       "\n",
       "The plushie is super soft and cuddly, making it the perfect companion for my daughter. She takes it everywhere with her, and it has quickly become her favorite toy. However, I did notice that one of the ears is a bit lower than the other, which I don't think was designed to be asymmetrical. But that doesn't take away from its cuteness.\n",
       "\n",
       "The only downside is that it's a bit small for the price I paid. I think there might be other options that are bigger for the same price. But overall, I'm happy with my purchase.\n",
       "\n",
       "One thing that surprised me was that it arrived a day earlier than expected. This gave me the chance to play with it myself before giving it to my daughter. And let me tell you, it's just as fun for adults as it is for kids.\n",
       "\n",
       "In conclusion, if you're looking for a soft and cute panda plushie that's perfect for all ages, this is definitely a great option. Just be aware that it might be a bit small for the price."
      ],
      "text/plain": [
       "<IPython.core.display.Markdown object>"
      ]
     },
     "metadata": {},
     "output_type": "display_data"
    }
   ],
   "source": [
    "prompt = f\"\"\"\n",
    "proofread and correct this review. Make it more compelling. \n",
    "Ensure it follows APA style guide and targets an advanced reader. \n",
    "Output in markdown format.\n",
    "Text: ```{text}```\n",
    "\"\"\"\n",
    "response = get_completion(prompt)\n",
    "display(Markdown(response))"
   ]
  },
  {
   "cell_type": "code",
   "execution_count": null,
   "id": "0e4c30d7-0ce3-46dc-9318-6587799ed371",
   "metadata": {},
   "outputs": [],
   "source": []
  }
 ],
 "metadata": {
  "kernelspec": {
   "display_name": "Python 3 (ipykernel)",
   "language": "python",
   "name": "python3"
  },
  "language_info": {
   "codemirror_mode": {
    "name": "ipython",
    "version": 3
   },
   "file_extension": ".py",
   "mimetype": "text/x-python",
   "name": "python",
   "nbconvert_exporter": "python",
   "pygments_lexer": "ipython3",
   "version": "3.11.3"
  }
 },
 "nbformat": 4,
 "nbformat_minor": 5
}
